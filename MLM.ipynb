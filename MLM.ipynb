{
 "cells": [
  {
   "cell_type": "markdown",
   "id": "a16e9312-b063-4142-b574-ccf719889026",
   "metadata": {},
   "source": [
    "# **Business Intelligence Specialist - Mercado Libre**\n",
    "\n",
    "Caso: El equipo comercial quiere realizar estrategias focalizadas para los sellers, pero en este momento no existe una clasificación que permita identificar a aquellos que tienen un **buen perfil** y son **relevantes para el negocio**. ¿Cómo podrías ayudar al equipo comercial a identificar estos sellers?"
   ]
  },
  {
   "cell_type": "markdown",
   "id": "ffb57767-d72c-4acd-b238-00cee52ad725",
   "metadata": {},
   "source": [
    "_____________________"
   ]
  },
  {
   "cell_type": "markdown",
   "id": "e19986c5-14fe-42c6-a3a9-02af0430a83a",
   "metadata": {
    "jp-MarkdownHeadingCollapsed": true
   },
   "source": [
    "## Configuración inicial"
   ]
  },
  {
   "cell_type": "markdown",
   "id": "df7b0973-4ece-46f1-a3b0-7f31968bd392",
   "metadata": {},
   "source": [
    "Conexión a la API de Mercado Libre para el mercado Méxicano en búsqueda de sellers relevantes dentro de una categoría:"
   ]
  },
  {
   "cell_type": "code",
   "execution_count": 3,
   "id": "949a7314-1e8a-4a25-a295-2b103a301a4c",
   "metadata": {},
   "outputs": [],
   "source": [
    "# Importar librerias usadas en el estudio\n",
    "import requests\n",
    "import pandas as pd\n",
    "import matplotlib.pyplot as plt\n",
    "import seaborn as sns"
   ]
  },
  {
   "cell_type": "code",
   "execution_count": 181,
   "id": "1dc90967-0240-409d-8cfb-6f1a013e39cd",
   "metadata": {
    "collapsed": true,
    "jupyter": {
     "outputs_hidden": true
    }
   },
   "outputs": [
    {
     "name": "stdout",
     "output_type": "stream",
     "text": [
      "Requirement already satisfied: requests in c:\\users\\camps\\anaconda3\\lib\\site-packages (2.32.3)\n",
      "Requirement already satisfied: pandas in c:\\users\\camps\\anaconda3\\lib\\site-packages (2.2.2)\n",
      "Requirement already satisfied: scikit-learn in c:\\users\\camps\\anaconda3\\lib\\site-packages (1.5.1)\n",
      "Requirement already satisfied: matplotlib in c:\\users\\camps\\anaconda3\\lib\\site-packages (3.9.2)\n",
      "Requirement already satisfied: seaborn in c:\\users\\camps\\anaconda3\\lib\\site-packages (0.13.2)\n",
      "Requirement already satisfied: charset-normalizer<4,>=2 in c:\\users\\camps\\anaconda3\\lib\\site-packages (from requests) (3.3.2)\n",
      "Requirement already satisfied: idna<4,>=2.5 in c:\\users\\camps\\anaconda3\\lib\\site-packages (from requests) (3.7)\n",
      "Requirement already satisfied: urllib3<3,>=1.21.1 in c:\\users\\camps\\anaconda3\\lib\\site-packages (from requests) (2.2.3)\n",
      "Requirement already satisfied: certifi>=2017.4.17 in c:\\users\\camps\\anaconda3\\lib\\site-packages (from requests) (2024.8.30)\n",
      "Requirement already satisfied: numpy>=1.26.0 in c:\\users\\camps\\anaconda3\\lib\\site-packages (from pandas) (1.26.4)\n",
      "Requirement already satisfied: python-dateutil>=2.8.2 in c:\\users\\camps\\anaconda3\\lib\\site-packages (from pandas) (2.9.0.post0)\n",
      "Requirement already satisfied: pytz>=2020.1 in c:\\users\\camps\\anaconda3\\lib\\site-packages (from pandas) (2024.1)\n",
      "Requirement already satisfied: tzdata>=2022.7 in c:\\users\\camps\\anaconda3\\lib\\site-packages (from pandas) (2023.3)\n",
      "Requirement already satisfied: scipy>=1.6.0 in c:\\users\\camps\\anaconda3\\lib\\site-packages (from scikit-learn) (1.13.1)\n",
      "Requirement already satisfied: joblib>=1.2.0 in c:\\users\\camps\\anaconda3\\lib\\site-packages (from scikit-learn) (1.4.2)\n",
      "Requirement already satisfied: threadpoolctl>=3.1.0 in c:\\users\\camps\\anaconda3\\lib\\site-packages (from scikit-learn) (3.5.0)\n",
      "Requirement already satisfied: contourpy>=1.0.1 in c:\\users\\camps\\anaconda3\\lib\\site-packages (from matplotlib) (1.2.0)\n",
      "Requirement already satisfied: cycler>=0.10 in c:\\users\\camps\\anaconda3\\lib\\site-packages (from matplotlib) (0.11.0)\n",
      "Requirement already satisfied: fonttools>=4.22.0 in c:\\users\\camps\\anaconda3\\lib\\site-packages (from matplotlib) (4.51.0)\n",
      "Requirement already satisfied: kiwisolver>=1.3.1 in c:\\users\\camps\\anaconda3\\lib\\site-packages (from matplotlib) (1.4.4)\n",
      "Requirement already satisfied: packaging>=20.0 in c:\\users\\camps\\anaconda3\\lib\\site-packages (from matplotlib) (24.1)\n",
      "Requirement already satisfied: pillow>=8 in c:\\users\\camps\\anaconda3\\lib\\site-packages (from matplotlib) (10.4.0)\n",
      "Requirement already satisfied: pyparsing>=2.3.1 in c:\\users\\camps\\anaconda3\\lib\\site-packages (from matplotlib) (3.1.2)\n",
      "Requirement already satisfied: six>=1.5 in c:\\users\\camps\\anaconda3\\lib\\site-packages (from python-dateutil>=2.8.2->pandas) (1.16.0)\n",
      "Note: you may need to restart the kernel to use updated packages.\n"
     ]
    }
   ],
   "source": [
    "pip install requests pandas scikit-learn matplotlib seaborn"
   ]
  },
  {
   "cell_type": "code",
   "execution_count": 4,
   "id": "c7651f81-0533-4f87-992d-b2ce15180d30",
   "metadata": {
    "scrolled": true
   },
   "outputs": [
    {
     "data": {
      "text/plain": [
       "[{'id': 'MLM1747', 'name': 'Accesorios para Vehículos'},\n",
       " {'id': 'MLM189530', 'name': 'Agro'},\n",
       " {'id': 'MLM1403', 'name': 'Alimentos y Bebidas'},\n",
       " {'id': 'MLM1071', 'name': 'Animales y Mascotas'},\n",
       " {'id': 'MLM1367', 'name': 'Antigüedades y Colecciones'},\n",
       " {'id': 'MLM1368', 'name': 'Arte, Papelería y Mercería'},\n",
       " {'id': 'MLM1743', 'name': 'Autos, Motos y Otros'},\n",
       " {'id': 'MLM1384', 'name': 'Bebés'},\n",
       " {'id': 'MLM1246', 'name': 'Belleza y Cuidado Personal'},\n",
       " {'id': 'MLM1039', 'name': 'Cámaras y Accesorios'},\n",
       " {'id': 'MLM1051', 'name': 'Celulares y Telefonía'},\n",
       " {'id': 'MLM1648', 'name': 'Computación'},\n",
       " {'id': 'MLM1144', 'name': 'Consolas y Videojuegos'},\n",
       " {'id': 'MLM1500', 'name': 'Construcción'},\n",
       " {'id': 'MLM1276', 'name': 'Deportes y Fitness'},\n",
       " {'id': 'MLM1575', 'name': 'Electrodomésticos'},\n",
       " {'id': 'MLM1000', 'name': 'Electrónica, Audio y Video'},\n",
       " {'id': 'MLM186863', 'name': 'Herramientas'},\n",
       " {'id': 'MLM1574', 'name': 'Hogar, Muebles y Jardín'},\n",
       " {'id': 'MLM1499', 'name': 'Industrias y Oficinas'},\n",
       " {'id': 'MLM1459', 'name': 'Inmuebles'},\n",
       " {'id': 'MLM1182', 'name': 'Instrumentos Musicales'},\n",
       " {'id': 'MLM3937', 'name': 'Joyas y Relojes'},\n",
       " {'id': 'MLM1132', 'name': 'Juegos y Juguetes'},\n",
       " {'id': 'MLM3025', 'name': 'Libros, Revistas y Comics'},\n",
       " {'id': 'MLM1168', 'name': 'Música, Películas y Series'},\n",
       " {'id': 'MLM44011', 'name': 'Recuerdos, Cotillón y Fiestas'},\n",
       " {'id': 'MLM1430', 'name': 'Ropa, Bolsas y Calzado'},\n",
       " {'id': 'MLM187772', 'name': 'Salud y Equipamiento Médico'},\n",
       " {'id': 'MLM1540', 'name': 'Servicios'},\n",
       " {'id': 'MLM1953', 'name': 'Otras Categorías'}]"
      ]
     },
     "execution_count": 4,
     "metadata": {},
     "output_type": "execute_result"
    }
   ],
   "source": [
    "# Revisar categorías disponibles en Mercado Libre México\n",
    "cats = requests.get('https://api.mercadolibre.com/sites/MLM/categories')\n",
    "cats.json()"
   ]
  },
  {
   "cell_type": "markdown",
   "id": "e101cd08-17bd-4a28-8fc2-05fe8422b980",
   "metadata": {},
   "source": [
    "Se elige la categoría \"Computación\" para el estudio:"
   ]
  },
  {
   "cell_type": "code",
   "execution_count": 81,
   "id": "f66d16f6-1212-4435-a472-fa6d3837dc4d",
   "metadata": {},
   "outputs": [],
   "source": [
    "# Selección básica\n",
    "site_id = 'MLM' # Mercado Libre México\n",
    "cat_id = 'MLM1403' # Alimentos y Bebidas\n",
    "base_url = 'https://api.mercadolibre.com/'"
   ]
  },
  {
   "cell_type": "code",
   "execution_count": 83,
   "id": "4574edf5-7397-4640-bdf5-d14a34de7d28",
   "metadata": {},
   "outputs": [],
   "source": [
    "# Obtener los datos por producto\n",
    "def get_prod(cat_id, limit=10, offset=0):\n",
    "    \"\"\"\n",
    "    Obtiene productos de una categoría específica de Mercado Libre.\n",
    "    \"\"\"\n",
    "    url = f\"{base_url}/sites/{site_id}/search\"\n",
    "    params = {\n",
    "        \"category\": cat_id,\n",
    "        \"limit\": limit,\n",
    "        \"offset\": offset\n",
    "    }\n",
    "\n",
    "    try:\n",
    "        # Generar y mostrar la URL completa\n",
    "        full_url = requests.Request('GET', url, params=params).prepare().url\n",
    "        print(f\"URL generada: {full_url}\")  # Verifica la URL\n",
    "        \n",
    "        # Realizar la solicitud\n",
    "        response = requests.get(full_url)\n",
    "        print(f\"Código de estado: {response.status_code}\")  # Verifica el código de respuesta\n",
    "        response.raise_for_status()\n",
    "        \n",
    "        # Devuelve la respuesta en JSON\n",
    "        return response.json()\n",
    "    except requests.exceptions.RequestException as e:\n",
    "        print(f\"Error en la solicitud: {e}\")\n",
    "        return {}  # Devuelve un diccionario vacío en caso de error"
   ]
  },
  {
   "cell_type": "code",
   "execution_count": 85,
   "id": "cdf33c63-e8d7-4d83-90d5-9485c220ce80",
   "metadata": {},
   "outputs": [
    {
     "name": "stdout",
     "output_type": "stream",
     "text": [
      "URL generada: https://api.mercadolibre.com//sites/MLM/search?category=MLM1403&limit=5&offset=0\n",
      "Código de estado: 200\n",
      "Productos obtenidos:\n",
      "- Tequila Gran Malo Duopack Tamarindo + Horchata 750ml (ID: MLM3246591738)\n",
      "- Ositos De Gomita De Colores Tipo Pandita Lucky Gummys 1 Kg (ID: MLM1491476810)\n",
      "- Gourmet & Healthy Té Chai Bengala 0 Azúcar 800g (ID: MLM2131206327)\n",
      "- Licor Con Tequila Barullo Spicy Sandía 750ml (ID: MLM2896004982)\n",
      "- Miel Black Horse Honey Vital 24 Sobres De 10g Sabor Original Dulce Amargo (ID: MLM2202606043)\n"
     ]
    }
   ],
   "source": [
    "# Llamar a la función y mostrar resultados\n",
    "data = get_prod(cat_id, limit=5, offset=0)  # Obtener los primeros 5 productos\n",
    "if data and 'results' in data:\n",
    "    print(\"Productos obtenidos:\")\n",
    "    for product in data['results']:\n",
    "        print(f\"- {product['title']} (ID: {product['id']})\")\n",
    "else:\n",
    "    print(\"No se encontraron productos o hubo un error.\")"
   ]
  },
  {
   "cell_type": "code",
   "execution_count": 87,
   "id": "fbef9dda-5be2-4c00-ac6b-bbcac97f6fa8",
   "metadata": {
    "scrolled": true
   },
   "outputs": [
    {
     "name": "stdout",
     "output_type": "stream",
     "text": [
      "Solicitando productos con offset 0...\n",
      "URL generada: https://api.mercadolibre.com//sites/MLM/search?category=MLM1403&limit=50&offset=0\n",
      "Código de estado: 200\n",
      "Productos obtenidos: 50\n",
      "Solicitando productos con offset 50...\n",
      "URL generada: https://api.mercadolibre.com//sites/MLM/search?category=MLM1403&limit=50&offset=50\n",
      "Código de estado: 200\n",
      "Productos obtenidos: 50\n",
      "Solicitando productos con offset 100...\n",
      "URL generada: https://api.mercadolibre.com//sites/MLM/search?category=MLM1403&limit=50&offset=100\n",
      "Código de estado: 200\n",
      "Productos obtenidos: 49\n",
      "Solicitando productos con offset 150...\n",
      "URL generada: https://api.mercadolibre.com//sites/MLM/search?category=MLM1403&limit=50&offset=150\n",
      "Código de estado: 200\n",
      "Productos obtenidos: 50\n",
      "Solicitando productos con offset 200...\n",
      "URL generada: https://api.mercadolibre.com//sites/MLM/search?category=MLM1403&limit=50&offset=200\n",
      "Código de estado: 200\n",
      "Productos obtenidos: 50\n",
      "Solicitando productos con offset 250...\n",
      "URL generada: https://api.mercadolibre.com//sites/MLM/search?category=MLM1403&limit=50&offset=250\n",
      "Código de estado: 200\n",
      "Productos obtenidos: 50\n",
      "Solicitando productos con offset 300...\n",
      "URL generada: https://api.mercadolibre.com//sites/MLM/search?category=MLM1403&limit=50&offset=300\n",
      "Código de estado: 200\n",
      "Productos obtenidos: 50\n",
      "Solicitando productos con offset 350...\n",
      "URL generada: https://api.mercadolibre.com//sites/MLM/search?category=MLM1403&limit=50&offset=350\n",
      "Código de estado: 200\n",
      "Productos obtenidos: 50\n",
      "Solicitando productos con offset 400...\n",
      "URL generada: https://api.mercadolibre.com//sites/MLM/search?category=MLM1403&limit=50&offset=400\n",
      "Código de estado: 200\n",
      "Productos obtenidos: 50\n",
      "Solicitando productos con offset 450...\n",
      "URL generada: https://api.mercadolibre.com//sites/MLM/search?category=MLM1403&limit=50&offset=450\n",
      "Código de estado: 200\n",
      "Productos obtenidos: 50\n",
      "Solicitando productos con offset 500...\n",
      "URL generada: https://api.mercadolibre.com//sites/MLM/search?category=MLM1403&limit=50&offset=500\n",
      "Código de estado: 200\n",
      "Productos obtenidos: 50\n",
      "Solicitando productos con offset 550...\n",
      "URL generada: https://api.mercadolibre.com//sites/MLM/search?category=MLM1403&limit=50&offset=550\n",
      "Código de estado: 200\n",
      "Productos obtenidos: 50\n",
      "Solicitando productos con offset 600...\n",
      "URL generada: https://api.mercadolibre.com//sites/MLM/search?category=MLM1403&limit=50&offset=600\n",
      "Código de estado: 200\n",
      "Productos obtenidos: 50\n",
      "Solicitando productos con offset 650...\n",
      "URL generada: https://api.mercadolibre.com//sites/MLM/search?category=MLM1403&limit=50&offset=650\n",
      "Código de estado: 200\n",
      "Productos obtenidos: 50\n",
      "Solicitando productos con offset 700...\n",
      "URL generada: https://api.mercadolibre.com//sites/MLM/search?category=MLM1403&limit=50&offset=700\n",
      "Código de estado: 200\n",
      "Productos obtenidos: 49\n",
      "Solicitando productos con offset 750...\n",
      "URL generada: https://api.mercadolibre.com//sites/MLM/search?category=MLM1403&limit=50&offset=750\n",
      "Código de estado: 200\n",
      "Productos obtenidos: 50\n",
      "Solicitando productos con offset 800...\n",
      "URL generada: https://api.mercadolibre.com//sites/MLM/search?category=MLM1403&limit=50&offset=800\n",
      "Código de estado: 200\n",
      "Productos obtenidos: 50\n",
      "Solicitando productos con offset 850...\n",
      "URL generada: https://api.mercadolibre.com//sites/MLM/search?category=MLM1403&limit=50&offset=850\n",
      "Código de estado: 200\n",
      "Productos obtenidos: 50\n",
      "Solicitando productos con offset 900...\n",
      "URL generada: https://api.mercadolibre.com//sites/MLM/search?category=MLM1403&limit=50&offset=900\n",
      "Código de estado: 200\n",
      "Productos obtenidos: 50\n",
      "Solicitando productos con offset 950...\n",
      "URL generada: https://api.mercadolibre.com//sites/MLM/search?category=MLM1403&limit=50&offset=950\n",
      "Código de estado: 200\n",
      "Productos obtenidos: 50\n",
      "Solicitando productos con offset 1000...\n",
      "URL generada: https://api.mercadolibre.com//sites/MLM/search?category=MLM1403&limit=50&offset=1000\n",
      "Código de estado: 403\n",
      "Error en la solicitud: 403 Client Error: Forbidden for url: https://api.mercadolibre.com//sites/MLM/search?category=MLM1403&limit=50&offset=1000\n",
      "No se encontraron más datos o hubo un error.\n",
      "Total de productos recolectados: 998\n"
     ]
    }
   ],
   "source": [
    "# Proceso de recolección de productos\n",
    "products = []\n",
    "offset = 0\n",
    "limit = 50\n",
    "\n",
    "while True:\n",
    "    print(f\"Solicitando productos con offset {offset}...\")\n",
    "    data = get_prod(cat_id, limit=limit, offset=offset)\n",
    "    \n",
    "    if data and 'results' in data:\n",
    "        print(f\"Productos obtenidos: {len(data['results'])}\")  # Cuántos productos se obtuvieron\n",
    "        products.extend(data['results'])\n",
    "        \n",
    "        offset += limit\n",
    "        if 'paging' in data and offset >= data['paging']['total']:\n",
    "            print(\"Se alcanzó el límite total de resultados.\")\n",
    "            break\n",
    "    else:\n",
    "        print(\"No se encontraron más datos o hubo un error.\")\n",
    "        break\n",
    "\n",
    "# Mostrar resultados finales\n",
    "print(f\"Total de productos recolectados: {len(products)}\")"
   ]
  },
  {
   "cell_type": "code",
   "execution_count": 95,
   "id": "f6570480-a691-41f0-8099-9f0351935fc0",
   "metadata": {},
   "outputs": [],
   "source": [
    "# Función para obtener información del seller\n",
    "def get_seller_info(seller_id, cache={}):\n",
    "    if seller_id in cache:\n",
    "        return cache[seller_id]\n",
    "    url = f\"{base_url}/users/{seller_id}\"\n",
    "    try:\n",
    "        response = requests.get(url)\n",
    "        response.raise_for_status()\n",
    "        data = response.json()\n",
    "        seller_info = {\n",
    "            \"seller_name\": data.get(\"nickname\"),\n",
    "            \"seller_reputation\": data.get(\"seller_reputation\", {}).get(\"level_id\"),\n",
    "            \"transactions_completed\": data.get(\"seller_reputation\", {}).get(\"transactions\", {}).get(\"completed\"),\n",
    "        }\n",
    "        cache[seller_id] = seller_info\n",
    "        return seller_info\n",
    "    except requests.exceptions.RequestException as e:\n",
    "        print(f\"Error al obtener información del seller {seller_id}: {e}\")\n",
    "        return None"
   ]
  },
  {
   "cell_type": "code",
   "execution_count": 97,
   "id": "764dc7fe-a06c-46eb-9f89-adca03f9c342",
   "metadata": {},
   "outputs": [
    {
     "name": "stdout",
     "output_type": "stream",
     "text": [
      "Se alcanzó el límite máximo de offset: 999\n",
      "Total de productos recolectados: 998\n"
     ]
    }
   ],
   "source": [
    "max_offset = 999  # Límite de offset permitido\n",
    "\n",
    "while True:\n",
    "    # Verificar que el offset no exceda el máximo permitido\n",
    "    if offset >= max_offset:\n",
    "        print(f\"Se alcanzó el límite máximo de offset: {max_offset}\")\n",
    "        break\n",
    "    \n",
    "    # Solicitar productos con el offset actualizado\n",
    "    data = get_prod(cat_id, limit=limit, offset=offset)\n",
    "    \n",
    "    # Verificar si los datos fueron obtenidos correctamente\n",
    "    if data and 'results' in data:\n",
    "        # Agregar los productos obtenidos a la lista\n",
    "        products.extend(data['results'])\n",
    "        \n",
    "        # Incrementar el offset para la siguiente solicitud\n",
    "        offset += limit\n",
    "        \n",
    "        # Verificar si hemos alcanzado el total de productos disponibles\n",
    "        if 'paging' in data and offset >= data['paging']['total']:\n",
    "            print(f\"Se alcanzó el límite total de resultados: {offset}\")\n",
    "            break\n",
    "    else:\n",
    "        print(\"No se encontraron más datos o hubo un error.\")\n",
    "        break\n",
    "\n",
    "# Mostrar resultados finales\n",
    "print(f\"Total de productos recolectados: {len(products)}\")"
   ]
  },
  {
   "cell_type": "code",
   "execution_count": 99,
   "id": "7deebd87-6d2f-4700-94e0-1b8f071896d9",
   "metadata": {},
   "outputs": [
    {
     "name": "stdout",
     "output_type": "stream",
     "text": [
      "              id category_id     domain_id  \\\n",
      "0  MLM3246591738   MLM185381  MLM-TEQUILAS   \n",
      "1  MLM1491476810   MLM185698   MLM-CANDIES   \n",
      "2  MLM2131206327   MLM194330       MLM-TEA   \n",
      "3  MLM2896004982   MLM185388   MLM-LIQUORS   \n",
      "4  MLM2202606043   MLM185697     MLM-HONEY   \n",
      "\n",
      "                                               title currency_id   price  \\\n",
      "0  Tequila Gran Malo Duopack Tamarindo + Horchata...         MXN  564.17   \n",
      "1  Ositos De Gomita De Colores Tipo Pandita Lucky...         MXN   83.00   \n",
      "2    Gourmet & Healthy Té Chai Bengala 0 Azúcar 800g         MXN  289.00   \n",
      "3       Licor Con Tequila Barullo Spicy Sandía 750ml         MXN  298.00   \n",
      "4  Miel Black Horse Honey Vital 24 Sobres De 10g ...         MXN  720.00   \n",
      "\n",
      "   original_price         seller_name seller_reputation  available_quantity  \n",
      "0          752.23          BLN BRANDS           5_green                 250  \n",
      "1             NaN   SOCIEDADCONFITERA           5_green                 500  \n",
      "2             NaN              ALIFOZ           5_green                   1  \n",
      "3             NaN      NACION TEQUILA           5_green                5000  \n",
      "4             NaN  BLACKHORSEHONEY_MX           5_green                   1  \n"
     ]
    }
   ],
   "source": [
    "# Crear DataFrame inicial\n",
    "df = pd.DataFrame(products)\n",
    "\n",
    "# Extraer seller_id e información del seller\n",
    "df[\"seller_id\"] = df[\"seller\"].apply(lambda x: x[\"id\"] if isinstance(x, dict) else None)\n",
    "seller_data = df[\"seller_id\"].apply(get_seller_info)\n",
    "df[\"seller_name\"] = seller_data.apply(lambda x: x.get(\"seller_name\") if x else None)\n",
    "df[\"seller_reputation\"] = seller_data.apply(lambda x: x.get(\"seller_reputation\") if x else None)\n",
    "df[\"transactions_completed\"] = seller_data.apply(lambda x: x.get(\"transactions_completed\") if x else None)\n",
    "\n",
    "# Limpiar DataFrame final\n",
    "df = df[[\n",
    "    \"id\", \"category_id\", \"domain_id\", \"title\", \"currency_id\", \n",
    "    \"price\", \"original_price\", \"seller_name\", \"seller_reputation\", \n",
    "    \"available_quantity\"\n",
    "]]\n",
    "\n",
    "# Mostrar DataFrame enriquecido\n",
    "print(df.head())"
   ]
  },
  {
   "cell_type": "code",
   "execution_count": 101,
   "id": "d493310c-3482-4827-908d-fd899655969f",
   "metadata": {},
   "outputs": [
    {
     "data": {
      "text/html": [
       "<div>\n",
       "<style scoped>\n",
       "    .dataframe tbody tr th:only-of-type {\n",
       "        vertical-align: middle;\n",
       "    }\n",
       "\n",
       "    .dataframe tbody tr th {\n",
       "        vertical-align: top;\n",
       "    }\n",
       "\n",
       "    .dataframe thead th {\n",
       "        text-align: right;\n",
       "    }\n",
       "</style>\n",
       "<table border=\"1\" class=\"dataframe\">\n",
       "  <thead>\n",
       "    <tr style=\"text-align: right;\">\n",
       "      <th></th>\n",
       "      <th>id</th>\n",
       "      <th>category_id</th>\n",
       "      <th>domain_id</th>\n",
       "      <th>title</th>\n",
       "      <th>currency_id</th>\n",
       "      <th>price</th>\n",
       "      <th>original_price</th>\n",
       "      <th>seller_name</th>\n",
       "      <th>seller_reputation</th>\n",
       "      <th>available_quantity</th>\n",
       "      <th>discount</th>\n",
       "    </tr>\n",
       "  </thead>\n",
       "  <tbody>\n",
       "    <tr>\n",
       "      <th>0</th>\n",
       "      <td>MLM3246591738</td>\n",
       "      <td>MLM185381</td>\n",
       "      <td>MLM-TEQUILAS</td>\n",
       "      <td>Tequila Gran Malo Duopack Tamarindo + Horchata...</td>\n",
       "      <td>MXN</td>\n",
       "      <td>564.17</td>\n",
       "      <td>752.23</td>\n",
       "      <td>BLN BRANDS</td>\n",
       "      <td>5_green</td>\n",
       "      <td>250</td>\n",
       "      <td>25.000332</td>\n",
       "    </tr>\n",
       "    <tr>\n",
       "      <th>1</th>\n",
       "      <td>MLM1491476810</td>\n",
       "      <td>MLM185698</td>\n",
       "      <td>MLM-CANDIES</td>\n",
       "      <td>Ositos De Gomita De Colores Tipo Pandita Lucky...</td>\n",
       "      <td>MXN</td>\n",
       "      <td>83.00</td>\n",
       "      <td>NaN</td>\n",
       "      <td>SOCIEDADCONFITERA</td>\n",
       "      <td>5_green</td>\n",
       "      <td>500</td>\n",
       "      <td>NaN</td>\n",
       "    </tr>\n",
       "    <tr>\n",
       "      <th>2</th>\n",
       "      <td>MLM2131206327</td>\n",
       "      <td>MLM194330</td>\n",
       "      <td>MLM-TEA</td>\n",
       "      <td>Gourmet &amp; Healthy Té Chai Bengala 0 Azúcar 800g</td>\n",
       "      <td>MXN</td>\n",
       "      <td>289.00</td>\n",
       "      <td>NaN</td>\n",
       "      <td>ALIFOZ</td>\n",
       "      <td>5_green</td>\n",
       "      <td>1</td>\n",
       "      <td>NaN</td>\n",
       "    </tr>\n",
       "    <tr>\n",
       "      <th>3</th>\n",
       "      <td>MLM2896004982</td>\n",
       "      <td>MLM185388</td>\n",
       "      <td>MLM-LIQUORS</td>\n",
       "      <td>Licor Con Tequila Barullo Spicy Sandía 750ml</td>\n",
       "      <td>MXN</td>\n",
       "      <td>298.00</td>\n",
       "      <td>NaN</td>\n",
       "      <td>NACION TEQUILA</td>\n",
       "      <td>5_green</td>\n",
       "      <td>5000</td>\n",
       "      <td>NaN</td>\n",
       "    </tr>\n",
       "    <tr>\n",
       "      <th>4</th>\n",
       "      <td>MLM2202606043</td>\n",
       "      <td>MLM185697</td>\n",
       "      <td>MLM-HONEY</td>\n",
       "      <td>Miel Black Horse Honey Vital 24 Sobres De 10g ...</td>\n",
       "      <td>MXN</td>\n",
       "      <td>720.00</td>\n",
       "      <td>NaN</td>\n",
       "      <td>BLACKHORSEHONEY_MX</td>\n",
       "      <td>5_green</td>\n",
       "      <td>1</td>\n",
       "      <td>NaN</td>\n",
       "    </tr>\n",
       "  </tbody>\n",
       "</table>\n",
       "</div>"
      ],
      "text/plain": [
       "              id category_id     domain_id  \\\n",
       "0  MLM3246591738   MLM185381  MLM-TEQUILAS   \n",
       "1  MLM1491476810   MLM185698   MLM-CANDIES   \n",
       "2  MLM2131206327   MLM194330       MLM-TEA   \n",
       "3  MLM2896004982   MLM185388   MLM-LIQUORS   \n",
       "4  MLM2202606043   MLM185697     MLM-HONEY   \n",
       "\n",
       "                                               title currency_id   price  \\\n",
       "0  Tequila Gran Malo Duopack Tamarindo + Horchata...         MXN  564.17   \n",
       "1  Ositos De Gomita De Colores Tipo Pandita Lucky...         MXN   83.00   \n",
       "2    Gourmet & Healthy Té Chai Bengala 0 Azúcar 800g         MXN  289.00   \n",
       "3       Licor Con Tequila Barullo Spicy Sandía 750ml         MXN  298.00   \n",
       "4  Miel Black Horse Honey Vital 24 Sobres De 10g ...         MXN  720.00   \n",
       "\n",
       "   original_price         seller_name seller_reputation  available_quantity  \\\n",
       "0          752.23          BLN BRANDS           5_green                 250   \n",
       "1             NaN   SOCIEDADCONFITERA           5_green                 500   \n",
       "2             NaN              ALIFOZ           5_green                   1   \n",
       "3             NaN      NACION TEQUILA           5_green                5000   \n",
       "4             NaN  BLACKHORSEHONEY_MX           5_green                   1   \n",
       "\n",
       "    discount  \n",
       "0  25.000332  \n",
       "1        NaN  \n",
       "2        NaN  \n",
       "3        NaN  \n",
       "4        NaN  "
      ]
     },
     "execution_count": 101,
     "metadata": {},
     "output_type": "execute_result"
    }
   ],
   "source": [
    "# Crear una columna de porcentaje de descuento\n",
    "df['discount'] = ((df['original_price'] - df['price']) / df['original_price']) * 100  \n",
    "\n",
    "df.head()"
   ]
  },
  {
   "cell_type": "markdown",
   "id": "1411b4c5-f1bf-40d6-9590-48f15ba9e83b",
   "metadata": {
    "jp-MarkdownHeadingCollapsed": true
   },
   "source": [
    "## Análsis exploratorio"
   ]
  },
  {
   "cell_type": "code",
   "execution_count": 103,
   "id": "a1b4f28b-595f-46f5-b1c9-28f20dfc2617",
   "metadata": {},
   "outputs": [
    {
     "name": "stdout",
     "output_type": "stream",
     "text": [
      "Resumen de datos:\n",
      "<class 'pandas.core.frame.DataFrame'>\n",
      "RangeIndex: 998 entries, 0 to 997\n",
      "Data columns (total 11 columns):\n",
      " #   Column              Non-Null Count  Dtype  \n",
      "---  ------              --------------  -----  \n",
      " 0   id                  998 non-null    object \n",
      " 1   category_id         998 non-null    object \n",
      " 2   domain_id           998 non-null    object \n",
      " 3   title               998 non-null    object \n",
      " 4   currency_id         998 non-null    object \n",
      " 5   price               998 non-null    float64\n",
      " 6   original_price      261 non-null    float64\n",
      " 7   seller_name         998 non-null    object \n",
      " 8   seller_reputation   998 non-null    object \n",
      " 9   available_quantity  998 non-null    int64  \n",
      " 10  discount            261 non-null    float64\n",
      "dtypes: float64(3), int64(1), object(7)\n",
      "memory usage: 85.9+ KB\n",
      "None\n",
      "   \n",
      "Estadística descriptiva básica:\n",
      "             price  original_price  available_quantity    discount\n",
      "count   998.000000      261.000000          998.000000  261.000000\n",
      "mean    360.912665      439.449655          149.830661   16.291879\n",
      "std     596.863021      822.605724          555.506043   10.049658\n",
      "min       8.790000       32.000000            1.000000    4.550847\n",
      "25%      95.000000      139.000000            1.000000    8.000000\n",
      "50%     193.670000      225.000000            1.000000   13.002183\n",
      "75%     402.000000      489.000000          100.000000   25.000000\n",
      "max    7958.040000     9588.000000         5000.000000   56.000000\n",
      "   \n",
      "Nulls por categoría:\n",
      "id                      0\n",
      "category_id             0\n",
      "domain_id               0\n",
      "title                   0\n",
      "currency_id             0\n",
      "price                   0\n",
      "original_price        737\n",
      "seller_name             0\n",
      "seller_reputation       0\n",
      "available_quantity      0\n",
      "discount              737\n",
      "dtype: int64\n"
     ]
    }
   ],
   "source": [
    "# Resumen de tipos de datos y valores nulos\n",
    "print(\"Resumen de datos:\")\n",
    "print(df.info())\n",
    "\n",
    "# Estadísticas descriptivas de columnas numéricas\n",
    "print(\"   \")\n",
    "print(\"Estadística descriptiva básica:\")\n",
    "print(df.describe())\n",
    "\n",
    "# Verificar si hay valores nulos\n",
    "print(\"   \")\n",
    "print(\"Nulls por categoría:\")\n",
    "print(df.isnull().sum())"
   ]
  },
  {
   "cell_type": "markdown",
   "id": "4a90dc1e-3e4e-4f4f-a1f9-15e464cc5638",
   "metadata": {
    "jp-MarkdownHeadingCollapsed": true
   },
   "source": [
    "### Distribución de Precios"
   ]
  },
  {
   "cell_type": "code",
   "execution_count": 105,
   "id": "91cad993-e641-48fb-a04f-5b0ebb5fe360",
   "metadata": {},
   "outputs": [
    {
     "data": {
      "image/png": "[encoded data removed]",
      "text/plain": [
       "<Figure size 640x480 with 1 Axes>"
      ]
     },
     "metadata": {},
     "output_type": "display_data"
    }
   ],
   "source": [
    "# Histograma de precios\n",
    "df['price'].hist(bins=40, edgecolor='black')\n",
    "plt.title(\"Distribución de Precios\")\n",
    "plt.xlabel(\"Precio\")\n",
    "plt.ylabel(\"Frecuencia\")\n",
    "plt.show()"
   ]
  },
  {
   "cell_type": "markdown",
   "id": "cb62aad4-3472-4caf-b154-4c809002268c",
   "metadata": {
    "jp-MarkdownHeadingCollapsed": true
   },
   "source": [
    "### Análisis de Precios Originales vs. Precios de Venta"
   ]
  },
  {
   "cell_type": "code",
   "execution_count": 113,
   "id": "78697959-1b5a-4b87-9eb8-0b5821e1f5ad",
   "metadata": {},
   "outputs": [
    {
     "name": "stdout",
     "output_type": "stream",
     "text": [
      "                id category_id            domain_id  \\\n",
      "140  MLM2937576136   MLM185698          MLM-CANDIES   \n",
      "554  MLM2562723408   MLM185698          MLM-CANDIES   \n",
      "234  MLM3453195330   MLM189612             MLM-GINS   \n",
      "359  MLM3453076212   MLM189612             MLM-GINS   \n",
      "848  MLM3155031618   MLM193984  MLM-HAZELNUT_CREAMS   \n",
      "946  MLM2164344505   MLM191667    MLM-ENERGY_DRINKS   \n",
      "692  MLM1808749549   MLM194487          MLM-COOKIES   \n",
      "496  MLM3398588880   MLM189608           MLM-VODKAS   \n",
      "277  MLM1995520557   MLM185698          MLM-CANDIES   \n",
      "459  MLM3492692680   MLM185382         MLM-WHISKEYS   \n",
      "\n",
      "                                                 title currency_id    price  \\\n",
      "140  Pelon Mini Dulce Enchilado De Tamarindo 36 Pie...         MXN   131.12   \n",
      "554  Malvalleno Mix Frutas Bombones Rellenos De Jal...         MXN   100.69   \n",
      "234                           Ginebra Diega Rosa 950ml         MXN   287.15   \n",
      "359                       Ginebra Diega Amarilla 950ml         MXN   287.15   \n",
      "848  Crema De Avellana Nutella 1 Kg Cacao Ferrero T...         MXN   181.78   \n",
      "946               Caja Red Bull Con 24 Latas De 250 Ml         MXN   675.18   \n",
      "692  Galletas Canelitas Marinela C/12 Paquetines Co...         MXN    42.16   \n",
      "496                          4 Pack Absolut Sabore Mix         MXN   930.82   \n",
      "277  Dulce Usher Peppermint Menta , 2 Pastillas 100...         MXN    56.07   \n",
      "459  Johnnie Walker Black Label Blended Whisky 1 Li...         MXN  2494.08   \n",
      "\n",
      "     original_price          seller_name seller_reputation  \\\n",
      "140          298.00       COMPRONLINE_MX           5_green   \n",
      "554          189.99        DULCERÍA TOBI           5_green   \n",
      "234          478.59  MERCADOLIBRE CPG_MX           5_green   \n",
      "359          478.59  MERCADOLIBRE CPG_MX           5_green   \n",
      "848          298.00       COMPRONLINE_MX           5_green   \n",
      "946         1089.00            CAFEBUNTE           5_green   \n",
      "692           68.00       COMPRONLINE_MX           5_green   \n",
      "496         1477.50  MERCADOLIBRE CPG_MX           5_green   \n",
      "277           89.00       COMPRONLINE_MX           5_green   \n",
      "459         3897.00        ECOSHOPMASTER           5_green   \n",
      "\n",
      "     available_quantity   discount  \n",
      "140                   1  56.000000  \n",
      "554                   1  47.002474  \n",
      "234                  50  40.000836  \n",
      "359                 100  40.000836  \n",
      "848                   1  39.000000  \n",
      "946                   1  38.000000  \n",
      "692                  50  38.000000  \n",
      "496                   1  37.000338  \n",
      "277                   1  37.000000  \n",
      "459                   1  36.000000  \n"
     ]
    }
   ],
   "source": [
    "# Ver los productos con mayor descuento\n",
    "print(df.sort_values('discount', ascending=False).head(10))"
   ]
  },
  {
   "cell_type": "code",
   "execution_count": 115,
   "id": "1e9e5d0d-b1bc-4084-9965-6b8c2f3daeb4",
   "metadata": {},
   "outputs": [
    {
     "data": {
      "image/png": "[encoded data removed]",
      "text/plain": [
       "<Figure size 640x480 with 1 Axes>"
      ]
     },
     "metadata": {},
     "output_type": "display_data"
    }
   ],
   "source": [
    "# Histograma de descuentos\n",
    "df['discount'].dropna().hist(bins=50, edgecolor='black', alpha=0.7)\n",
    "plt.title(\"Distribución de Descuentos\")\n",
    "plt.xlabel(\"Descuento (%)\")\n",
    "plt.ylabel(\"Frecuencia\")\n",
    "plt.show()"
   ]
  },
  {
   "cell_type": "markdown",
   "id": "a74bec2e-0e31-4809-b418-29cebe49c3a4",
   "metadata": {
    "jp-MarkdownHeadingCollapsed": true
   },
   "source": [
    "### Cantidad de Productos Disponibles"
   ]
  },
  {
   "cell_type": "code",
   "execution_count": 142,
   "id": "512bfe0b-64f7-41b6-ba2c-fa006c485bd9",
   "metadata": {},
   "outputs": [
    {
     "name": "stdout",
     "output_type": "stream",
     "text": [
      "count     998.000000\n",
      "mean      149.830661\n",
      "std       555.506043\n",
      "min         1.000000\n",
      "25%         1.000000\n",
      "50%         1.000000\n",
      "75%       100.000000\n",
      "max      5000.000000\n",
      "Name: available_quantity, dtype: float64\n",
      "0     250\n",
      "1     500\n",
      "2       1\n",
      "3    5000\n",
      "4       1\n",
      "Name: available_quantity, dtype: int64\n"
     ]
    }
   ],
   "source": [
    "# Resumen estadístico de cantidad disponible\n",
    "print(df['available_quantity'].describe())"
   ]
  },
  {
   "cell_type": "code",
   "execution_count": 146,
   "id": "e796e556-daef-4d58-afc9-eabbc1c1ef74",
   "metadata": {},
   "outputs": [
    {
     "data": {
      "image/png": "[encoded data removed]",
      "text/plain": [
       "<Figure size 800x500 with 1 Axes>"
      ]
     },
     "metadata": {},
     "output_type": "display_data"
    }
   ],
   "source": [
    "# Gráfico de distribución de cantidad disponible\n",
    "df['available_quantity'].plot(kind='box', vert=False, figsize=(8, 5))\n",
    "plt.title(\"Distribución de Cantidades Disponibles\")\n",
    "plt.show()"
   ]
  },
  {
   "cell_type": "code",
   "execution_count": 148,
   "id": "b45f9bf9-6af1-4ebc-95f7-06a1a933c4e8",
   "metadata": {},
   "outputs": [
    {
     "name": "stdout",
     "output_type": "stream",
     "text": [
      "Top 10 productos con más cantidades disponibles:\n",
      "                id                                              title  \\\n",
      "116  MLM2876039220     Bola De Oro Café Exportacion 1 Kg Envio Gratis   \n",
      "450  MLM1921511529     Pikaros Dulce De Tamarindo Con Chile, Ricolino   \n",
      "279  MLM1736938870  Bola De Oro Café Molido Gourmet 1 Kilo Envio G...   \n",
      "47   MLM1863461405  Soju Licor De Arroz Coreano Variedad De Sabore...   \n",
      "922  MLM3012103606  Agua Fiji Artesanal Natural Importada 24pack D...   \n",
      "43   MLM2172270409  Sidra Strongbow Variety Pack 12 Botellas De 330ml   \n",
      "262  MLM2041852689       Bebida Jugo Pouch Caprisun Variado 6oz 40 Pz   \n",
      "361  MLM1376470078                     Chicharrón De Cerdo Ramos 1 Kg   \n",
      "290  MLM2574303894  Lingzhi Coffee 2 En 1 Dxn Sin Azúcar Y Con Gan...   \n",
      "406  MLM2973774820  Gatorade Zero En Polvo Variado (sin Azúcar), P...   \n",
      "\n",
      "     available_quantity   price  \n",
      "116                5000  354.00  \n",
      "450                5000  105.00  \n",
      "279                5000  403.00  \n",
      "47                 5000   77.00  \n",
      "922                5000  731.00  \n",
      "43                 5000  279.00  \n",
      "262                5000  362.00  \n",
      "361                5000  410.00  \n",
      "290                5000  351.35  \n",
      "406                5000  389.00  \n"
     ]
    }
   ],
   "source": [
    "# Ordenar los productos por cantidad disponible de mayor a menor\n",
    "sorted_products = df.sort_values(by='available_quantity', ascending=False)\n",
    "\n",
    "# Seleccionar las columnas relevantes para visualizar\n",
    "top_products = sorted_products[['id', 'title', 'available_quantity', 'price']]\n",
    "\n",
    "# Mostrar los 10 productos con más cantidades disponibles\n",
    "print(\"Top 10 productos con más cantidades disponibles:\")\n",
    "print(top_products.head(10))"
   ]
  },
  {
   "cell_type": "code",
   "execution_count": 150,
   "id": "3d70c91d-52ed-4236-bbdf-2c95d6ee37c3",
   "metadata": {},
   "outputs": [
    {
     "name": "stdout",
     "output_type": "stream",
     "text": [
      "Top 10 productos con más cantidades disponibles:\n",
      "                id                                              title  \\\n",
      "498  MLM2016667595  Duo Pack Tequila Hijos De Villa Blanco Revolve...   \n",
      "400  MLM1485271516          Propoleo Natural Concentrado Deliux 1250g   \n",
      "399  MLM1402010342        Tequila Reposado Gran Centenario Azul 700ml   \n",
      "708  MLM1633552769  Bebida Japonesa Ramune Sabor Mora Azul 200ml G...   \n",
      "397  MLM2803229158  Combo Yerba Mate Rosamonte Tradicional (2 Bols...   \n",
      "396  MLM3493033888     Whisky Johnnie Walker Blue Label Blended 750ml   \n",
      "709  MLM2818501874                                   Vodka Skyy 750ml   \n",
      "393  MLM3295273330          Quinoa Blanca Perlada Calidad Premium 3kg   \n",
      "391  MLM2176170827               Tequila 1800 Blanco 100% Agave 700ml   \n",
      "713  MLM1644523410  Salsa Mango Habanero 4.3kg Custom Culinary Zaf...   \n",
      "\n",
      "     available_quantity    price  \n",
      "498                   1   999.00  \n",
      "400                   1   140.00  \n",
      "399                   1   217.80  \n",
      "708                   1    39.95  \n",
      "397                   1   418.00  \n",
      "396                   1  5503.00  \n",
      "709                   1   232.44  \n",
      "393                   1   248.90  \n",
      "391                   1   482.67  \n",
      "713                   1   374.97  \n"
     ]
    }
   ],
   "source": [
    "# Ordenar los productos por cantidad disponible de menor a mayor\n",
    "sorted_products = df.sort_values(by='available_quantity', ascending=True)\n",
    "\n",
    "# Seleccionar las columnas relevantes para visualizar\n",
    "lower_products = sorted_products[['id', 'title', 'available_quantity', 'price']]\n",
    "\n",
    "# Mostrar los 10 productos con más cantidades disponibles\n",
    "print(\"Top 10 productos con más cantidades disponibles:\")\n",
    "print(lower_products.head(10))"
   ]
  },
  {
   "cell_type": "markdown",
   "id": "a28b8bd2-c6ca-4d4f-8c2b-e46e725dd3ec",
   "metadata": {
    "jp-MarkdownHeadingCollapsed": true
   },
   "source": [
    "### Análisis de Productos por Vendedor"
   ]
  },
  {
   "cell_type": "code",
   "execution_count": 121,
   "id": "582e6ae3-981d-40c3-bf12-12d479886e35",
   "metadata": {},
   "outputs": [
    {
     "name": "stdout",
     "output_type": "stream",
     "text": [
      "seller_name\n",
      "MERCADOLIBRE CPG_MX           50\n",
      "ENDAROO ECOMMERCE             43\n",
      "COMERCIANTE GALACTICO         42\n",
      "NACION TEQUILA                29\n",
      "VENDEMOS VINO                 28\n",
      "MI GRANERO                    25\n",
      "DISFRUTO NUTS                 24\n",
      "LACASTELLANAENMERCADOLIBRE    22\n",
      "GRUPO AGNEZ                   22\n",
      "DISTRIBUIDORA ZAMORA          21\n",
      "Name: count, dtype: int64\n"
     ]
    }
   ],
   "source": [
    "seller_counts = df['seller_name'].value_counts()\n",
    "\n",
    "# Mostrar los vendedores con más productos\n",
    "top_sellers = seller_counts.head(10)\n",
    "print(top_sellers)"
   ]
  },
  {
   "cell_type": "code",
   "execution_count": 123,
   "id": "33e66ad1-d621-4177-9539-52565aa1cabf",
   "metadata": {},
   "outputs": [
    {
     "data": {
      "image/png": "[encoded data removed]",
      "text/plain": [
       "<Figure size 1200x600 with 1 Axes>"
      ]
     },
     "metadata": {},
     "output_type": "display_data"
    }
   ],
   "source": [
    "# Gráfica del número de productos por vendedor\n",
    "plt.figure(figsize=(12, 6))\n",
    "sns.barplot(x=top_sellers.values, y=top_sellers.index)\n",
    "\n",
    "plt.title(\"Top 10 Vendedores con más productos\", fontsize=16)\n",
    "plt.xlabel(\"Número de productos\", fontsize=12)\n",
    "plt.ylabel(\"Vendedor\", fontsize=12)\n",
    "plt.xticks(fontsize=10)\n",
    "plt.yticks(fontsize=10)\n",
    "plt.tight_layout()"
   ]
  },
  {
   "cell_type": "code",
   "execution_count": 125,
   "id": "00a3a9ae-4636-44c9-9324-1c38b210f5d9",
   "metadata": {},
   "outputs": [
    {
     "name": "stdout",
     "output_type": "stream",
     "text": [
      " \n",
      " \n",
      "seller_name\n",
      "TRYFAM                           2965.000000\n",
      "FLOSEOPERADORA                   2830.000000\n",
      "ECOSHOPMASTER                    2431.824000\n",
      "TEQUILADONRAMÓN PERSONALIZADO    2236.625000\n",
      "AUTOPARTES_REVO                  1838.000000\n",
      "BAJAMAR SEAWATER                 1820.000000\n",
      "TIA ALIMENTOS                    1599.000000\n",
      "VIVRISHOP                        1591.990000\n",
      "BEBIDASXMENOS                    1553.428571\n",
      "TRENTO33                         1477.500000\n",
      "Name: price, dtype: float64\n"
     ]
    }
   ],
   "source": [
    "# Comparar precios promedio por vendedor\n",
    "avg_price_by_seller = df.groupby('seller_name')['price'].mean()\n",
    "avg_price_by_seller = avg_price_by_seller.sort_values(ascending=False)\n",
    "print(' ')\n",
    "print(' ')\n",
    "print(avg_price_by_seller.head(10))"
   ]
  },
  {
   "cell_type": "code",
   "execution_count": 127,
   "id": "54d736ea-fc82-4934-a1f9-71a7270129d1",
   "metadata": {},
   "outputs": [
    {
     "data": {
      "image/png": "[encoded data removed]",
      "text/plain": [
       "<Figure size 1200x600 with 1 Axes>"
      ]
     },
     "metadata": {},
     "output_type": "display_data"
    }
   ],
   "source": [
    "# Gráfica del mayores precios promedio de productos por vendedor\n",
    "top_avg_price_sellers = avg_price_by_seller.head(10)\n",
    "plt.figure(figsize=(12, 6))\n",
    "sns.barplot(x=top_avg_price_sellers.values, y=top_avg_price_sellers.index)\n",
    "\n",
    "plt.title(\"Top 10 vendedores poro precio promedio\", fontsize=16)\n",
    "plt.xlabel(\"Precio Promedio\", fontsize=12)\n",
    "plt.ylabel(\"Vendedor]\", fontsize=12)\n",
    "plt.xticks(fontsize=10)\n",
    "plt.yticks(fontsize=10)\n",
    "plt.tight_layout()"
   ]
  },
  {
   "cell_type": "markdown",
   "id": "be9de99e-168f-4667-9af6-995bff67a63f",
   "metadata": {
    "jp-MarkdownHeadingCollapsed": true
   },
   "source": [
    "### Análisis de Precios por Subcategoría"
   ]
  },
  {
   "cell_type": "code",
   "execution_count": 129,
   "id": "24c5ee2c-506a-4725-9a0c-8a975e8e47a7",
   "metadata": {},
   "outputs": [
    {
     "name": "stdout",
     "output_type": "stream",
     "text": [
      "domain_id\n",
      "MLM-WHISKEYS                    1290.207647\n",
      "MLM-TONIC_WATERS                1080.833333\n",
      "MLM-TEQUILAS                     847.316518\n",
      "MLM-COGNACS                      809.000000\n",
      "MLM-BREAD_CRUMBS                 749.000000\n",
      "MLM-READY_TO_DRINK_COCKTAILS     740.607778\n",
      "MLM-BEERS                        589.855714\n",
      "MLM-APERITIFS                    543.000000\n",
      "MLM-FOODS_AND_DRINKS             502.230000\n",
      "MLM-SPORTS_DRINKS                481.791818\n",
      "Name: price, dtype: float64\n"
     ]
    }
   ],
   "source": [
    "# Análisis de precio promedio por subcategoría\n",
    "avg_price_by_subcategory = df.groupby('domain_id')['price'].mean()\n",
    "avg_price_by_subcategory = avg_price_by_subcategory.sort_values(ascending=False)\n",
    "print(avg_price_by_subcategory.head(10))"
   ]
  },
  {
   "cell_type": "code",
   "execution_count": 131,
   "id": "bd1bdd95-04cc-4a7f-80d8-d15d3d152b7a",
   "metadata": {},
   "outputs": [
    {
     "data": {
      "text/plain": [
       "([0, 1, 2, 3, 4, 5, 6, 7, 8, 9],\n",
       " [Text(0, 0, 'MLM-WHISKEYS'),\n",
       "  Text(0, 1, 'MLM-TONIC_WATERS'),\n",
       "  Text(0, 2, 'MLM-TEQUILAS'),\n",
       "  Text(0, 3, 'MLM-COGNACS'),\n",
       "  Text(0, 4, 'MLM-BREAD_CRUMBS'),\n",
       "  Text(0, 5, 'MLM-READY_TO_DRINK_COCKTAILS'),\n",
       "  Text(0, 6, 'MLM-BEERS'),\n",
       "  Text(0, 7, 'MLM-APERITIFS'),\n",
       "  Text(0, 8, 'MLM-FOODS_AND_DRINKS'),\n",
       "  Text(0, 9, 'MLM-SPORTS_DRINKS')])"
      ]
     },
     "execution_count": 131,
     "metadata": {},
     "output_type": "execute_result"
    },
    {
     "data": {
      "image/png": "[encoded data removed]",
      "text/plain": [
       "<Figure size 1200x600 with 1 Axes>"
      ]
     },
     "metadata": {},
     "output_type": "display_data"
    }
   ],
   "source": [
    "# Top 10 subcategorías por precio promedio\n",
    "top_avg_price_subcategories = avg_price_by_subcategory.head(10)\n",
    "\n",
    "# Gráfica de top 10 subcategorías por precio promedio\n",
    "plt.figure(figsize=(12, 6))\n",
    "sns.barplot(x=top_avg_price_subcategories.values, y=top_avg_price_subcategories.index)\n",
    "\n",
    "plt.title(\"Top 10 subcategorías por precio promedio\", fontsize=16)\n",
    "plt.xlabel(\"Precio promedio\", fontsize=12)\n",
    "plt.ylabel(\"Subcategorías\", fontsize=12)\n",
    "plt.xticks(fontsize=10)\n",
    "plt.yticks(fontsize=10)"
   ]
  },
  {
   "cell_type": "markdown",
   "id": "36c3f284-7aeb-47b1-8974-c99a9cb532c3",
   "metadata": {
    "jp-MarkdownHeadingCollapsed": true
   },
   "source": [
    "### Precios por productos"
   ]
  },
  {
   "cell_type": "code",
   "execution_count": 133,
   "id": "34c3e099-2846-4772-b8b5-c854110350c4",
   "metadata": {},
   "outputs": [
    {
     "name": "stdout",
     "output_type": "stream",
     "text": [
      "Productos más caros:\n"
     ]
    },
    {
     "data": {
      "text/html": [
       "<div>\n",
       "<style scoped>\n",
       "    .dataframe tbody tr th:only-of-type {\n",
       "        vertical-align: middle;\n",
       "    }\n",
       "\n",
       "    .dataframe tbody tr th {\n",
       "        vertical-align: top;\n",
       "    }\n",
       "\n",
       "    .dataframe thead th {\n",
       "        text-align: right;\n",
       "    }\n",
       "</style>\n",
       "<table border=\"1\" class=\"dataframe\">\n",
       "  <thead>\n",
       "    <tr style=\"text-align: right;\">\n",
       "      <th></th>\n",
       "      <th>id</th>\n",
       "      <th>category_id</th>\n",
       "      <th>domain_id</th>\n",
       "      <th>title</th>\n",
       "      <th>currency_id</th>\n",
       "      <th>price</th>\n",
       "      <th>original_price</th>\n",
       "      <th>seller_name</th>\n",
       "      <th>seller_reputation</th>\n",
       "      <th>available_quantity</th>\n",
       "      <th>discount</th>\n",
       "    </tr>\n",
       "  </thead>\n",
       "  <tbody>\n",
       "    <tr>\n",
       "      <th>893</th>\n",
       "      <td>MLM2196935489</td>\n",
       "      <td>MLM185382</td>\n",
       "      <td>MLM-WHISKEYS</td>\n",
       "      <td>Whisky Buchanan's Deluxe 12 Años Blended 750 M...</td>\n",
       "      <td>MXN</td>\n",
       "      <td>7958.04</td>\n",
       "      <td>9588.0</td>\n",
       "      <td>ECOSHOPMASTER</td>\n",
       "      <td>5_green</td>\n",
       "      <td>1</td>\n",
       "      <td>17.0</td>\n",
       "    </tr>\n",
       "    <tr>\n",
       "      <th>746</th>\n",
       "      <td>MLM3049760562</td>\n",
       "      <td>MLM185382</td>\n",
       "      <td>MLM-WHISKEYS</td>\n",
       "      <td>Whisky Johnnie Walker Black Label 750ml Pack 1...</td>\n",
       "      <td>MXN</td>\n",
       "      <td>6855.00</td>\n",
       "      <td>NaN</td>\n",
       "      <td>BEBIDASXMENOS</td>\n",
       "      <td>5_green</td>\n",
       "      <td>1</td>\n",
       "      <td>NaN</td>\n",
       "    </tr>\n",
       "    <tr>\n",
       "      <th>703</th>\n",
       "      <td>MLM3482865264</td>\n",
       "      <td>MLM185381</td>\n",
       "      <td>MLM-TEQUILAS</td>\n",
       "      <td>Caja De 12 Tequila Maestro Dobel Diamante Cris...</td>\n",
       "      <td>MXN</td>\n",
       "      <td>6439.08</td>\n",
       "      <td>6999.0</td>\n",
       "      <td>WALMART3X2</td>\n",
       "      <td>5_green</td>\n",
       "      <td>1</td>\n",
       "      <td>8.0</td>\n",
       "    </tr>\n",
       "    <tr>\n",
       "      <th>773</th>\n",
       "      <td>MLM2162351073</td>\n",
       "      <td>MLM185381</td>\n",
       "      <td>MLM-TEQUILAS</td>\n",
       "      <td>Tequila Don Ramón Edición Limitada Añejo Luis ...</td>\n",
       "      <td>MXN</td>\n",
       "      <td>5764.00</td>\n",
       "      <td>NaN</td>\n",
       "      <td>TEQUILADONRAMÓN PERSONALIZADO</td>\n",
       "      <td>5_green</td>\n",
       "      <td>1</td>\n",
       "      <td>NaN</td>\n",
       "    </tr>\n",
       "    <tr>\n",
       "      <th>396</th>\n",
       "      <td>MLM3493033888</td>\n",
       "      <td>MLM185382</td>\n",
       "      <td>MLM-WHISKEYS</td>\n",
       "      <td>Whisky Johnnie Walker Blue Label Blended 750ml</td>\n",
       "      <td>MXN</td>\n",
       "      <td>5503.00</td>\n",
       "      <td>NaN</td>\n",
       "      <td>FLOSEOPERADORA</td>\n",
       "      <td>5_green</td>\n",
       "      <td>1</td>\n",
       "      <td>NaN</td>\n",
       "    </tr>\n",
       "    <tr>\n",
       "      <th>747</th>\n",
       "      <td>MLM3463234038</td>\n",
       "      <td>MLM185381</td>\n",
       "      <td>MLM-TEQUILAS</td>\n",
       "      <td>Tequila Don Ramón Edición Limitada Plata Luis ...</td>\n",
       "      <td>MXN</td>\n",
       "      <td>4609.00</td>\n",
       "      <td>NaN</td>\n",
       "      <td>TEQUILADONRAMÓN PERSONALIZADO</td>\n",
       "      <td>5_green</td>\n",
       "      <td>1</td>\n",
       "      <td>NaN</td>\n",
       "    </tr>\n",
       "    <tr>\n",
       "      <th>185</th>\n",
       "      <td>MLM3102165350</td>\n",
       "      <td>MLM185381</td>\n",
       "      <td>MLM-TEQUILAS</td>\n",
       "      <td>Clase Azul Tequila Reposado 750 Ml</td>\n",
       "      <td>MXN</td>\n",
       "      <td>3553.50</td>\n",
       "      <td>NaN</td>\n",
       "      <td>LACASTELLANAENMERCADOLIBRE</td>\n",
       "      <td>5_green</td>\n",
       "      <td>50</td>\n",
       "      <td>NaN</td>\n",
       "    </tr>\n",
       "    <tr>\n",
       "      <th>425</th>\n",
       "      <td>MLM3032256472</td>\n",
       "      <td>MLM194303</td>\n",
       "      <td>MLM-SPORTS_DRINKS</td>\n",
       "      <td>Pruvit Keto Os 1 Caja C/20 Cetonas Dulce Agrio...</td>\n",
       "      <td>MXN</td>\n",
       "      <td>2965.00</td>\n",
       "      <td>NaN</td>\n",
       "      <td>TRYFAM</td>\n",
       "      <td>5_green</td>\n",
       "      <td>1</td>\n",
       "      <td>NaN</td>\n",
       "    </tr>\n",
       "    <tr>\n",
       "      <th>26</th>\n",
       "      <td>MLM2126486995</td>\n",
       "      <td>MLM185381</td>\n",
       "      <td>MLM-TEQUILAS</td>\n",
       "      <td>Don Ramón Trilogía Platinum Edición Luis Miguel</td>\n",
       "      <td>MXN</td>\n",
       "      <td>2834.00</td>\n",
       "      <td>NaN</td>\n",
       "      <td>TEQUILADONRAMÓN PERSONALIZADO</td>\n",
       "      <td>5_green</td>\n",
       "      <td>1</td>\n",
       "      <td>NaN</td>\n",
       "    </tr>\n",
       "    <tr>\n",
       "      <th>461</th>\n",
       "      <td>MLM2139625969</td>\n",
       "      <td>MLM194298</td>\n",
       "      <td>MLM-JUICES</td>\n",
       "      <td>Jugo Tahitian Noni Nonilíquido Pack X 4</td>\n",
       "      <td>MXN</td>\n",
       "      <td>2799.00</td>\n",
       "      <td>NaN</td>\n",
       "      <td>AUTOPARTES_REVO</td>\n",
       "      <td>5_green</td>\n",
       "      <td>1</td>\n",
       "      <td>NaN</td>\n",
       "    </tr>\n",
       "  </tbody>\n",
       "</table>\n",
       "</div>"
      ],
      "text/plain": [
       "                id category_id          domain_id  \\\n",
       "893  MLM2196935489   MLM185382       MLM-WHISKEYS   \n",
       "746  MLM3049760562   MLM185382       MLM-WHISKEYS   \n",
       "703  MLM3482865264   MLM185381       MLM-TEQUILAS   \n",
       "773  MLM2162351073   MLM185381       MLM-TEQUILAS   \n",
       "396  MLM3493033888   MLM185382       MLM-WHISKEYS   \n",
       "747  MLM3463234038   MLM185381       MLM-TEQUILAS   \n",
       "185  MLM3102165350   MLM185381       MLM-TEQUILAS   \n",
       "425  MLM3032256472   MLM194303  MLM-SPORTS_DRINKS   \n",
       "26   MLM2126486995   MLM185381       MLM-TEQUILAS   \n",
       "461  MLM2139625969   MLM194298         MLM-JUICES   \n",
       "\n",
       "                                                 title currency_id    price  \\\n",
       "893  Whisky Buchanan's Deluxe 12 Años Blended 750 M...         MXN  7958.04   \n",
       "746  Whisky Johnnie Walker Black Label 750ml Pack 1...         MXN  6855.00   \n",
       "703  Caja De 12 Tequila Maestro Dobel Diamante Cris...         MXN  6439.08   \n",
       "773  Tequila Don Ramón Edición Limitada Añejo Luis ...         MXN  5764.00   \n",
       "396     Whisky Johnnie Walker Blue Label Blended 750ml         MXN  5503.00   \n",
       "747  Tequila Don Ramón Edición Limitada Plata Luis ...         MXN  4609.00   \n",
       "185                 Clase Azul Tequila Reposado 750 Ml         MXN  3553.50   \n",
       "425  Pruvit Keto Os 1 Caja C/20 Cetonas Dulce Agrio...         MXN  2965.00   \n",
       "26     Don Ramón Trilogía Platinum Edición Luis Miguel         MXN  2834.00   \n",
       "461            Jugo Tahitian Noni Nonilíquido Pack X 4         MXN  2799.00   \n",
       "\n",
       "     original_price                    seller_name seller_reputation  \\\n",
       "893          9588.0                  ECOSHOPMASTER           5_green   \n",
       "746             NaN                  BEBIDASXMENOS           5_green   \n",
       "703          6999.0                     WALMART3X2           5_green   \n",
       "773             NaN  TEQUILADONRAMÓN PERSONALIZADO           5_green   \n",
       "396             NaN                 FLOSEOPERADORA           5_green   \n",
       "747             NaN  TEQUILADONRAMÓN PERSONALIZADO           5_green   \n",
       "185             NaN     LACASTELLANAENMERCADOLIBRE           5_green   \n",
       "425             NaN                         TRYFAM           5_green   \n",
       "26              NaN  TEQUILADONRAMÓN PERSONALIZADO           5_green   \n",
       "461             NaN                AUTOPARTES_REVO           5_green   \n",
       "\n",
       "     available_quantity  discount  \n",
       "893                   1      17.0  \n",
       "746                   1       NaN  \n",
       "703                   1       8.0  \n",
       "773                   1       NaN  \n",
       "396                   1       NaN  \n",
       "747                   1       NaN  \n",
       "185                  50       NaN  \n",
       "425                   1       NaN  \n",
       "26                    1       NaN  \n",
       "461                   1       NaN  "
      ]
     },
     "execution_count": 133,
     "metadata": {},
     "output_type": "execute_result"
    }
   ],
   "source": [
    "# Productos más caros\n",
    "print(\"Productos más caros:\")\n",
    "df.sort_values('price', ascending=False).head(10)"
   ]
  },
  {
   "cell_type": "code",
   "execution_count": 135,
   "id": "f1dd3536-0bfa-4ecc-9f3b-769c0cd8f014",
   "metadata": {},
   "outputs": [
    {
     "name": "stdout",
     "output_type": "stream",
     "text": [
      "Productos más baratos:\n"
     ]
    },
    {
     "data": {
      "text/html": [
       "<div>\n",
       "<style scoped>\n",
       "    .dataframe tbody tr th:only-of-type {\n",
       "        vertical-align: middle;\n",
       "    }\n",
       "\n",
       "    .dataframe tbody tr th {\n",
       "        vertical-align: top;\n",
       "    }\n",
       "\n",
       "    .dataframe thead th {\n",
       "        text-align: right;\n",
       "    }\n",
       "</style>\n",
       "<table border=\"1\" class=\"dataframe\">\n",
       "  <thead>\n",
       "    <tr style=\"text-align: right;\">\n",
       "      <th></th>\n",
       "      <th>id</th>\n",
       "      <th>category_id</th>\n",
       "      <th>domain_id</th>\n",
       "      <th>title</th>\n",
       "      <th>currency_id</th>\n",
       "      <th>price</th>\n",
       "      <th>original_price</th>\n",
       "      <th>seller_name</th>\n",
       "      <th>seller_reputation</th>\n",
       "      <th>available_quantity</th>\n",
       "      <th>discount</th>\n",
       "    </tr>\n",
       "  </thead>\n",
       "  <tbody>\n",
       "    <tr>\n",
       "      <th>507</th>\n",
       "      <td>MLM2055738713</td>\n",
       "      <td>MLM194476</td>\n",
       "      <td>MLM-PASTAS</td>\n",
       "      <td>La Moderna Pasta Para Sopa Fideo 2 Fideo Grues...</td>\n",
       "      <td>MXN</td>\n",
       "      <td>8.79</td>\n",
       "      <td>NaN</td>\n",
       "      <td>COMERCIANTE GALACTICO</td>\n",
       "      <td>5_green</td>\n",
       "      <td>100</td>\n",
       "      <td>NaN</td>\n",
       "    </tr>\n",
       "    <tr>\n",
       "      <th>733</th>\n",
       "      <td>MLM1503259131</td>\n",
       "      <td>MLM191212</td>\n",
       "      <td>MLM-CANNED_AND_PRESERVED_FOOD</td>\n",
       "      <td>Frijoles Bayos La Costeña Refritos 220g</td>\n",
       "      <td>MXN</td>\n",
       "      <td>14.50</td>\n",
       "      <td>NaN</td>\n",
       "      <td>COMPAÑIA PRAGA</td>\n",
       "      <td>5_green</td>\n",
       "      <td>1</td>\n",
       "      <td>NaN</td>\n",
       "    </tr>\n",
       "    <tr>\n",
       "      <th>645</th>\n",
       "      <td>MLM1449374111</td>\n",
       "      <td>MLM191212</td>\n",
       "      <td>MLM-CANNED_AND_PRESERVED_FOOD</td>\n",
       "      <td>Atún En Agua 130g Tuny</td>\n",
       "      <td>MXN</td>\n",
       "      <td>19.80</td>\n",
       "      <td>NaN</td>\n",
       "      <td>COMERCIANTE GALACTICO</td>\n",
       "      <td>5_green</td>\n",
       "      <td>500</td>\n",
       "      <td>NaN</td>\n",
       "    </tr>\n",
       "    <tr>\n",
       "      <th>868</th>\n",
       "      <td>MLM1465428678</td>\n",
       "      <td>MLM193860</td>\n",
       "      <td>MLM-COOKING_CREAMS</td>\n",
       "      <td>Media Crema Nestlé Lata 225g</td>\n",
       "      <td>MXN</td>\n",
       "      <td>21.00</td>\n",
       "      <td>NaN</td>\n",
       "      <td>COMERCIANTE GALACTICO</td>\n",
       "      <td>5_green</td>\n",
       "      <td>50</td>\n",
       "      <td>NaN</td>\n",
       "    </tr>\n",
       "    <tr>\n",
       "      <th>452</th>\n",
       "      <td>MLM1527918118</td>\n",
       "      <td>MLM194487</td>\n",
       "      <td>MLM-COOKIES</td>\n",
       "      <td>Galletas Cuétara Surtido Clásico 170g</td>\n",
       "      <td>MXN</td>\n",
       "      <td>21.00</td>\n",
       "      <td>NaN</td>\n",
       "      <td>COMERCIANTE GALACTICO</td>\n",
       "      <td>5_green</td>\n",
       "      <td>1</td>\n",
       "      <td>NaN</td>\n",
       "    </tr>\n",
       "    <tr>\n",
       "      <th>377</th>\n",
       "      <td>MLM1451004581</td>\n",
       "      <td>MLM193739</td>\n",
       "      <td>MLM-MILK</td>\n",
       "      <td>Producto Lácteo Combinado Nutri Entera 1l</td>\n",
       "      <td>MXN</td>\n",
       "      <td>21.98</td>\n",
       "      <td>NaN</td>\n",
       "      <td>COMERCIANTE GALACTICO</td>\n",
       "      <td>5_green</td>\n",
       "      <td>150</td>\n",
       "      <td>NaN</td>\n",
       "    </tr>\n",
       "    <tr>\n",
       "      <th>894</th>\n",
       "      <td>MLM3317970756</td>\n",
       "      <td>MLM191212</td>\n",
       "      <td>MLM-CANNED_AND_PRESERVED_FOOD</td>\n",
       "      <td>Atún Herdez En Agua Lata 130g</td>\n",
       "      <td>MXN</td>\n",
       "      <td>23.00</td>\n",
       "      <td>NaN</td>\n",
       "      <td>ABASTOS_CADEL</td>\n",
       "      <td>5_green</td>\n",
       "      <td>1</td>\n",
       "      <td>NaN</td>\n",
       "    </tr>\n",
       "    <tr>\n",
       "      <th>108</th>\n",
       "      <td>MLM3369627608</td>\n",
       "      <td>MLM185722</td>\n",
       "      <td>MLM-RICE</td>\n",
       "      <td>Arroz Schettino Extra 900 G</td>\n",
       "      <td>MXN</td>\n",
       "      <td>23.00</td>\n",
       "      <td>NaN</td>\n",
       "      <td>NDONI.MX</td>\n",
       "      <td>5_green</td>\n",
       "      <td>1</td>\n",
       "      <td>NaN</td>\n",
       "    </tr>\n",
       "    <tr>\n",
       "      <th>317</th>\n",
       "      <td>MLM1837505108</td>\n",
       "      <td>MLM191330</td>\n",
       "      <td>MLM-SOFT_DRINKS</td>\n",
       "      <td>Refresco Cupa Chups Sabor Frambuesas Con Crema...</td>\n",
       "      <td>MXN</td>\n",
       "      <td>24.00</td>\n",
       "      <td>NaN</td>\n",
       "      <td>TOYO FOODS</td>\n",
       "      <td>5_green</td>\n",
       "      <td>150</td>\n",
       "      <td>NaN</td>\n",
       "    </tr>\n",
       "    <tr>\n",
       "      <th>94</th>\n",
       "      <td>MLM2101229395</td>\n",
       "      <td>MLM189791</td>\n",
       "      <td>MLM-OATMEAL</td>\n",
       "      <td>Avena Granvita Hojuela Tradicional En Bolsa 700g</td>\n",
       "      <td>MXN</td>\n",
       "      <td>24.20</td>\n",
       "      <td>NaN</td>\n",
       "      <td>GRUPOINDUSTRIALVIDASADECV</td>\n",
       "      <td>5_green</td>\n",
       "      <td>1</td>\n",
       "      <td>NaN</td>\n",
       "    </tr>\n",
       "  </tbody>\n",
       "</table>\n",
       "</div>"
      ],
      "text/plain": [
       "                id category_id                      domain_id  \\\n",
       "507  MLM2055738713   MLM194476                     MLM-PASTAS   \n",
       "733  MLM1503259131   MLM191212  MLM-CANNED_AND_PRESERVED_FOOD   \n",
       "645  MLM1449374111   MLM191212  MLM-CANNED_AND_PRESERVED_FOOD   \n",
       "868  MLM1465428678   MLM193860             MLM-COOKING_CREAMS   \n",
       "452  MLM1527918118   MLM194487                    MLM-COOKIES   \n",
       "377  MLM1451004581   MLM193739                       MLM-MILK   \n",
       "894  MLM3317970756   MLM191212  MLM-CANNED_AND_PRESERVED_FOOD   \n",
       "108  MLM3369627608   MLM185722                       MLM-RICE   \n",
       "317  MLM1837505108   MLM191330                MLM-SOFT_DRINKS   \n",
       "94   MLM2101229395   MLM189791                    MLM-OATMEAL   \n",
       "\n",
       "                                                 title currency_id  price  \\\n",
       "507  La Moderna Pasta Para Sopa Fideo 2 Fideo Grues...         MXN   8.79   \n",
       "733            Frijoles Bayos La Costeña Refritos 220g         MXN  14.50   \n",
       "645                             Atún En Agua 130g Tuny         MXN  19.80   \n",
       "868                       Media Crema Nestlé Lata 225g         MXN  21.00   \n",
       "452              Galletas Cuétara Surtido Clásico 170g         MXN  21.00   \n",
       "377          Producto Lácteo Combinado Nutri Entera 1l         MXN  21.98   \n",
       "894                      Atún Herdez En Agua Lata 130g         MXN  23.00   \n",
       "108                        Arroz Schettino Extra 900 G         MXN  23.00   \n",
       "317  Refresco Cupa Chups Sabor Frambuesas Con Crema...         MXN  24.00   \n",
       "94    Avena Granvita Hojuela Tradicional En Bolsa 700g         MXN  24.20   \n",
       "\n",
       "     original_price                seller_name seller_reputation  \\\n",
       "507             NaN      COMERCIANTE GALACTICO           5_green   \n",
       "733             NaN             COMPAÑIA PRAGA           5_green   \n",
       "645             NaN      COMERCIANTE GALACTICO           5_green   \n",
       "868             NaN      COMERCIANTE GALACTICO           5_green   \n",
       "452             NaN      COMERCIANTE GALACTICO           5_green   \n",
       "377             NaN      COMERCIANTE GALACTICO           5_green   \n",
       "894             NaN              ABASTOS_CADEL           5_green   \n",
       "108             NaN                   NDONI.MX           5_green   \n",
       "317             NaN                 TOYO FOODS           5_green   \n",
       "94              NaN  GRUPOINDUSTRIALVIDASADECV           5_green   \n",
       "\n",
       "     available_quantity  discount  \n",
       "507                 100       NaN  \n",
       "733                   1       NaN  \n",
       "645                 500       NaN  \n",
       "868                  50       NaN  \n",
       "452                   1       NaN  \n",
       "377                 150       NaN  \n",
       "894                   1       NaN  \n",
       "108                   1       NaN  \n",
       "317                 150       NaN  \n",
       "94                    1       NaN  "
      ]
     },
     "execution_count": 135,
     "metadata": {},
     "output_type": "execute_result"
    }
   ],
   "source": [
    "# Productos más baratos\n",
    "print(\"Productos más baratos:\")\n",
    "df.sort_values('price', ascending=True).head(10)"
   ]
  },
  {
   "cell_type": "markdown",
   "id": "87abfd71-4f85-4665-aa01-bf470a582f98",
   "metadata": {
    "jp-MarkdownHeadingCollapsed": true
   },
   "source": [
    "### Revisión de Vendedores por reputación"
   ]
  },
  {
   "cell_type": "code",
   "execution_count": 140,
   "id": "645bdd8a-b617-4239-a4c0-a25dd2850dad",
   "metadata": {},
   "outputs": [
    {
     "data": {
      "image/png": "[encoded data removed]",
      "text/plain": [
       "<Figure size 1000x600 with 1 Axes>"
      ]
     },
     "metadata": {},
     "output_type": "display_data"
    }
   ],
   "source": [
    "# Group by seller reputation and count the number of sellers\n",
    "sellers_by_reputation = df.groupby('seller_reputation')['seller_name'].nunique()\n",
    "\n",
    "# Sort values for a clear representation\n",
    "sellers_by_reputation = sellers_by_reputation.sort_values(ascending=False)\n",
    "\n",
    "# Create the bar plot\n",
    "plt.figure(figsize=(10, 6))\n",
    "sns.barplot(x=sellers_by_reputation.index, y=sellers_by_reputation.values)\n",
    "\n",
    "# Add titles and labels\n",
    "plt.title(\"Number of Sellers by Reputation Level\", fontsize=16)\n",
    "plt.xlabel(\"Seller Reputation\", fontsize=12)\n",
    "plt.ylabel(\"Number of Sellers\", fontsize=12)\n",
    "plt.xticks(rotation=45, fontsize=10)\n",
    "plt.yticks(fontsize=10)\n",
    "\n",
    "# Adjust layout and display\n",
    "plt.tight_layout()\n",
    "plt.show()"
   ]
  }
 ],
 "metadata": {
  "kernelspec": {
   "display_name": "Python 3 (ipykernel)",
   "language": "python",
   "name": "python3"
  },
  "language_info": {
   "codemirror_mode": {
    "name": "ipython",
    "version": 3
   },
   "file_extension": ".py",
   "mimetype": "text/x-python",
   "name": "python",
   "nbconvert_exporter": "python",
   "pygments_lexer": "ipython3",
   "version": "3.12.7"
  }
 },
 "nbformat": 4,
 "nbformat_minor": 5
}
